{
 "cells": [
  {
   "cell_type": "code",
   "execution_count": 1,
   "metadata": {},
   "outputs": [],
   "source": [
    "import pandas as pd\n",
    "import re"
   ]
  },
  {
   "cell_type": "code",
   "execution_count": 2,
   "metadata": {},
   "outputs": [],
   "source": [
    "df = pd.read_excel(\"raghav expalantion.xlsx\")"
   ]
  },
  {
   "cell_type": "code",
   "execution_count": 3,
   "metadata": {},
   "outputs": [
    {
     "data": {
      "text/html": [
       "<div>\n",
       "<style scoped>\n",
       "    .dataframe tbody tr th:only-of-type {\n",
       "        vertical-align: middle;\n",
       "    }\n",
       "\n",
       "    .dataframe tbody tr th {\n",
       "        vertical-align: top;\n",
       "    }\n",
       "\n",
       "    .dataframe thead th {\n",
       "        text-align: right;\n",
       "    }\n",
       "</style>\n",
       "<table border=\"1\" class=\"dataframe\">\n",
       "  <thead>\n",
       "    <tr style=\"text-align: right;\">\n",
       "      <th></th>\n",
       "      <th>Sentences</th>\n",
       "      <th>Explanation</th>\n",
       "    </tr>\n",
       "  </thead>\n",
       "  <tbody>\n",
       "    <tr>\n",
       "      <th>0</th>\n",
       "      <td>PrintInColor.red('hello', end=' ')\\nPrintInCol...</td>\n",
       "      <td>This snippet uses a custom PrintInColor class ...</td>\n",
       "    </tr>\n",
       "    <tr>\n",
       "      <th>1</th>\n",
       "      <td>from lazyme.string import color_print\\n&gt;&gt;&gt; col...</td>\n",
       "      <td>This code snippet demonstrates the use of the ...</td>\n",
       "    </tr>\n",
       "    <tr>\n",
       "      <th>2</th>\n",
       "      <td>&gt;&gt;&gt; from lazyme.string import palette, highlig...</td>\n",
       "      <td>This code snippet imports several functions (p...</td>\n",
       "    </tr>\n",
       "    <tr>\n",
       "      <th>3</th>\n",
       "      <td>&gt;&gt;&gt; color_print('foo bar', color='pink', highl...</td>\n",
       "      <td>This snippet uses the color_print function fro...</td>\n",
       "    </tr>\n",
       "    <tr>\n",
       "      <th>4</th>\n",
       "      <td>from colorama import Fore, Style\\nimport sys\\n...</td>\n",
       "      <td>\\nThis snippet defines a custom context manage...</td>\n",
       "    </tr>\n",
       "  </tbody>\n",
       "</table>\n",
       "</div>"
      ],
      "text/plain": [
       "                                           Sentences  \\\n",
       "0  PrintInColor.red('hello', end=' ')\\nPrintInCol...   \n",
       "1  from lazyme.string import color_print\\n>>> col...   \n",
       "2  >>> from lazyme.string import palette, highlig...   \n",
       "3  >>> color_print('foo bar', color='pink', highl...   \n",
       "4  from colorama import Fore, Style\\nimport sys\\n...   \n",
       "\n",
       "                                         Explanation  \n",
       "0  This snippet uses a custom PrintInColor class ...  \n",
       "1  This code snippet demonstrates the use of the ...  \n",
       "2  This code snippet imports several functions (p...  \n",
       "3  This snippet uses the color_print function fro...  \n",
       "4  \\nThis snippet defines a custom context manage...  "
      ]
     },
     "execution_count": 3,
     "metadata": {},
     "output_type": "execute_result"
    }
   ],
   "source": [
    "df.head()"
   ]
  },
  {
   "cell_type": "code",
   "execution_count": 4,
   "metadata": {},
   "outputs": [],
   "source": [
    "df['Explanation'] = df['Explanation'].str.replace('\\n' , '' )"
   ]
  },
  {
   "cell_type": "code",
   "execution_count": 5,
   "metadata": {},
   "outputs": [
    {
     "data": {
      "text/html": [
       "<div>\n",
       "<style scoped>\n",
       "    .dataframe tbody tr th:only-of-type {\n",
       "        vertical-align: middle;\n",
       "    }\n",
       "\n",
       "    .dataframe tbody tr th {\n",
       "        vertical-align: top;\n",
       "    }\n",
       "\n",
       "    .dataframe thead th {\n",
       "        text-align: right;\n",
       "    }\n",
       "</style>\n",
       "<table border=\"1\" class=\"dataframe\">\n",
       "  <thead>\n",
       "    <tr style=\"text-align: right;\">\n",
       "      <th></th>\n",
       "      <th>Sentences</th>\n",
       "      <th>Explanation</th>\n",
       "    </tr>\n",
       "  </thead>\n",
       "  <tbody>\n",
       "    <tr>\n",
       "      <th>0</th>\n",
       "      <td>PrintInColor.red('hello', end=' ')\\nPrintInCol...</td>\n",
       "      <td>This snippet uses a custom PrintInColor class ...</td>\n",
       "    </tr>\n",
       "    <tr>\n",
       "      <th>1</th>\n",
       "      <td>from lazyme.string import color_print\\n&gt;&gt;&gt; col...</td>\n",
       "      <td>This code snippet demonstrates the use of the ...</td>\n",
       "    </tr>\n",
       "    <tr>\n",
       "      <th>2</th>\n",
       "      <td>&gt;&gt;&gt; from lazyme.string import palette, highlig...</td>\n",
       "      <td>This code snippet imports several functions (p...</td>\n",
       "    </tr>\n",
       "    <tr>\n",
       "      <th>3</th>\n",
       "      <td>&gt;&gt;&gt; color_print('foo bar', color='pink', highl...</td>\n",
       "      <td>This snippet uses the color_print function fro...</td>\n",
       "    </tr>\n",
       "    <tr>\n",
       "      <th>4</th>\n",
       "      <td>from colorama import Fore, Style\\nimport sys\\n...</td>\n",
       "      <td>This snippet defines a custom context manager,...</td>\n",
       "    </tr>\n",
       "  </tbody>\n",
       "</table>\n",
       "</div>"
      ],
      "text/plain": [
       "                                           Sentences  \\\n",
       "0  PrintInColor.red('hello', end=' ')\\nPrintInCol...   \n",
       "1  from lazyme.string import color_print\\n>>> col...   \n",
       "2  >>> from lazyme.string import palette, highlig...   \n",
       "3  >>> color_print('foo bar', color='pink', highl...   \n",
       "4  from colorama import Fore, Style\\nimport sys\\n...   \n",
       "\n",
       "                                         Explanation  \n",
       "0  This snippet uses a custom PrintInColor class ...  \n",
       "1  This code snippet demonstrates the use of the ...  \n",
       "2  This code snippet imports several functions (p...  \n",
       "3  This snippet uses the color_print function fro...  \n",
       "4  This snippet defines a custom context manager,...  "
      ]
     },
     "execution_count": 5,
     "metadata": {},
     "output_type": "execute_result"
    }
   ],
   "source": [
    "df.head()"
   ]
  },
  {
   "cell_type": "code",
   "execution_count": 7,
   "metadata": {},
   "outputs": [],
   "source": [
    "df.to_excel('new.xlsx', index =False)"
   ]
  },
  {
   "cell_type": "code",
   "execution_count": null,
   "metadata": {},
   "outputs": [],
   "source": []
  }
 ],
 "metadata": {
  "kernelspec": {
   "display_name": "Python 3",
   "language": "python",
   "name": "python3"
  },
  "language_info": {
   "codemirror_mode": {
    "name": "ipython",
    "version": 3
   },
   "file_extension": ".py",
   "mimetype": "text/x-python",
   "name": "python",
   "nbconvert_exporter": "python",
   "pygments_lexer": "ipython3",
   "version": "3.12.3"
  }
 },
 "nbformat": 4,
 "nbformat_minor": 2
}
